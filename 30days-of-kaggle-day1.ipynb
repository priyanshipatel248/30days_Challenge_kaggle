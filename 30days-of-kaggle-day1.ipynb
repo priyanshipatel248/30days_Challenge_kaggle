{
 "cells": [
  {
   "cell_type": "code",
   "execution_count": 1,
   "id": "84334052",
   "metadata": {
    "execution": {
     "iopub.execute_input": "2021-08-08T09:49:56.450191Z",
     "iopub.status.busy": "2021-08-08T09:49:56.446592Z",
     "iopub.status.idle": "2021-08-08T09:49:57.711982Z",
     "shell.execute_reply": "2021-08-08T09:49:57.710919Z",
     "shell.execute_reply.started": "2021-08-08T09:42:50.810403Z"
    },
    "papermill": {
     "duration": 1.290412,
     "end_time": "2021-08-08T09:49:57.712174",
     "exception": false,
     "start_time": "2021-08-08T09:49:56.421762",
     "status": "completed"
    },
    "tags": []
   },
   "outputs": [],
   "source": [
    "import numpy as np\n",
    "import pandas as pd\n",
    "from sklearn.ensemble import RandomForestClassifier"
   ]
  },
  {
   "cell_type": "markdown",
   "id": "be73a861",
   "metadata": {
    "papermill": {
     "duration": 0.014361,
     "end_time": "2021-08-08T09:49:57.742311",
     "exception": false,
     "start_time": "2021-08-08T09:49:57.727950",
     "status": "completed"
    },
    "tags": []
   },
   "source": []
  },
  {
   "cell_type": "code",
   "execution_count": 2,
   "id": "8b2c81ec",
   "metadata": {
    "execution": {
     "iopub.execute_input": "2021-08-08T09:49:57.777709Z",
     "iopub.status.busy": "2021-08-08T09:49:57.777088Z",
     "iopub.status.idle": "2021-08-08T09:49:57.821494Z",
     "shell.execute_reply": "2021-08-08T09:49:57.822010Z",
     "shell.execute_reply.started": "2021-08-08T09:42:52.064536Z"
    },
    "papermill": {
     "duration": 0.06511,
     "end_time": "2021-08-08T09:49:57.822228",
     "exception": false,
     "start_time": "2021-08-08T09:49:57.757118",
     "status": "completed"
    },
    "tags": []
   },
   "outputs": [
    {
     "data": {
      "text/html": [
       "<div>\n",
       "<style scoped>\n",
       "    .dataframe tbody tr th:only-of-type {\n",
       "        vertical-align: middle;\n",
       "    }\n",
       "\n",
       "    .dataframe tbody tr th {\n",
       "        vertical-align: top;\n",
       "    }\n",
       "\n",
       "    .dataframe thead th {\n",
       "        text-align: right;\n",
       "    }\n",
       "</style>\n",
       "<table border=\"1\" class=\"dataframe\">\n",
       "  <thead>\n",
       "    <tr style=\"text-align: right;\">\n",
       "      <th></th>\n",
       "      <th>PassengerId</th>\n",
       "      <th>Survived</th>\n",
       "      <th>Pclass</th>\n",
       "      <th>Name</th>\n",
       "      <th>Sex</th>\n",
       "      <th>Age</th>\n",
       "      <th>SibSp</th>\n",
       "      <th>Parch</th>\n",
       "      <th>Ticket</th>\n",
       "      <th>Fare</th>\n",
       "      <th>Cabin</th>\n",
       "      <th>Embarked</th>\n",
       "    </tr>\n",
       "  </thead>\n",
       "  <tbody>\n",
       "    <tr>\n",
       "      <th>0</th>\n",
       "      <td>1</td>\n",
       "      <td>0</td>\n",
       "      <td>3</td>\n",
       "      <td>Braund, Mr. Owen Harris</td>\n",
       "      <td>male</td>\n",
       "      <td>22.0</td>\n",
       "      <td>1</td>\n",
       "      <td>0</td>\n",
       "      <td>A/5 21171</td>\n",
       "      <td>7.2500</td>\n",
       "      <td>NaN</td>\n",
       "      <td>S</td>\n",
       "    </tr>\n",
       "    <tr>\n",
       "      <th>1</th>\n",
       "      <td>2</td>\n",
       "      <td>1</td>\n",
       "      <td>1</td>\n",
       "      <td>Cumings, Mrs. John Bradley (Florence Briggs Th...</td>\n",
       "      <td>female</td>\n",
       "      <td>38.0</td>\n",
       "      <td>1</td>\n",
       "      <td>0</td>\n",
       "      <td>PC 17599</td>\n",
       "      <td>71.2833</td>\n",
       "      <td>C85</td>\n",
       "      <td>C</td>\n",
       "    </tr>\n",
       "    <tr>\n",
       "      <th>2</th>\n",
       "      <td>3</td>\n",
       "      <td>1</td>\n",
       "      <td>3</td>\n",
       "      <td>Heikkinen, Miss. Laina</td>\n",
       "      <td>female</td>\n",
       "      <td>26.0</td>\n",
       "      <td>0</td>\n",
       "      <td>0</td>\n",
       "      <td>STON/O2. 3101282</td>\n",
       "      <td>7.9250</td>\n",
       "      <td>NaN</td>\n",
       "      <td>S</td>\n",
       "    </tr>\n",
       "    <tr>\n",
       "      <th>3</th>\n",
       "      <td>4</td>\n",
       "      <td>1</td>\n",
       "      <td>1</td>\n",
       "      <td>Futrelle, Mrs. Jacques Heath (Lily May Peel)</td>\n",
       "      <td>female</td>\n",
       "      <td>35.0</td>\n",
       "      <td>1</td>\n",
       "      <td>0</td>\n",
       "      <td>113803</td>\n",
       "      <td>53.1000</td>\n",
       "      <td>C123</td>\n",
       "      <td>S</td>\n",
       "    </tr>\n",
       "    <tr>\n",
       "      <th>4</th>\n",
       "      <td>5</td>\n",
       "      <td>0</td>\n",
       "      <td>3</td>\n",
       "      <td>Allen, Mr. William Henry</td>\n",
       "      <td>male</td>\n",
       "      <td>35.0</td>\n",
       "      <td>0</td>\n",
       "      <td>0</td>\n",
       "      <td>373450</td>\n",
       "      <td>8.0500</td>\n",
       "      <td>NaN</td>\n",
       "      <td>S</td>\n",
       "    </tr>\n",
       "  </tbody>\n",
       "</table>\n",
       "</div>"
      ],
      "text/plain": [
       "   PassengerId  Survived  Pclass  \\\n",
       "0            1         0       3   \n",
       "1            2         1       1   \n",
       "2            3         1       3   \n",
       "3            4         1       1   \n",
       "4            5         0       3   \n",
       "\n",
       "                                                Name     Sex   Age  SibSp  \\\n",
       "0                            Braund, Mr. Owen Harris    male  22.0      1   \n",
       "1  Cumings, Mrs. John Bradley (Florence Briggs Th...  female  38.0      1   \n",
       "2                             Heikkinen, Miss. Laina  female  26.0      0   \n",
       "3       Futrelle, Mrs. Jacques Heath (Lily May Peel)  female  35.0      1   \n",
       "4                           Allen, Mr. William Henry    male  35.0      0   \n",
       "\n",
       "   Parch            Ticket     Fare Cabin Embarked  \n",
       "0      0         A/5 21171   7.2500   NaN        S  \n",
       "1      0          PC 17599  71.2833   C85        C  \n",
       "2      0  STON/O2. 3101282   7.9250   NaN        S  \n",
       "3      0            113803  53.1000  C123        S  \n",
       "4      0            373450   8.0500   NaN        S  "
      ]
     },
     "execution_count": 2,
     "metadata": {},
     "output_type": "execute_result"
    }
   ],
   "source": [
    "train_data=pd.read_csv(\"../input/titanic/train.csv\")\n",
    "train_data.head()"
   ]
  },
  {
   "cell_type": "code",
   "execution_count": 3,
   "id": "5a1e3b7a",
   "metadata": {
    "execution": {
     "iopub.execute_input": "2021-08-08T09:49:57.859171Z",
     "iopub.status.busy": "2021-08-08T09:49:57.858371Z",
     "iopub.status.idle": "2021-08-08T09:49:57.883923Z",
     "shell.execute_reply": "2021-08-08T09:49:57.883261Z",
     "shell.execute_reply.started": "2021-08-08T09:42:52.118104Z"
    },
    "papermill": {
     "duration": 0.045903,
     "end_time": "2021-08-08T09:49:57.884084",
     "exception": false,
     "start_time": "2021-08-08T09:49:57.838181",
     "status": "completed"
    },
    "tags": []
   },
   "outputs": [
    {
     "data": {
      "text/html": [
       "<div>\n",
       "<style scoped>\n",
       "    .dataframe tbody tr th:only-of-type {\n",
       "        vertical-align: middle;\n",
       "    }\n",
       "\n",
       "    .dataframe tbody tr th {\n",
       "        vertical-align: top;\n",
       "    }\n",
       "\n",
       "    .dataframe thead th {\n",
       "        text-align: right;\n",
       "    }\n",
       "</style>\n",
       "<table border=\"1\" class=\"dataframe\">\n",
       "  <thead>\n",
       "    <tr style=\"text-align: right;\">\n",
       "      <th></th>\n",
       "      <th>PassengerId</th>\n",
       "      <th>Pclass</th>\n",
       "      <th>Name</th>\n",
       "      <th>Sex</th>\n",
       "      <th>Age</th>\n",
       "      <th>SibSp</th>\n",
       "      <th>Parch</th>\n",
       "      <th>Ticket</th>\n",
       "      <th>Fare</th>\n",
       "      <th>Cabin</th>\n",
       "      <th>Embarked</th>\n",
       "    </tr>\n",
       "  </thead>\n",
       "  <tbody>\n",
       "    <tr>\n",
       "      <th>0</th>\n",
       "      <td>892</td>\n",
       "      <td>3</td>\n",
       "      <td>Kelly, Mr. James</td>\n",
       "      <td>male</td>\n",
       "      <td>34.5</td>\n",
       "      <td>0</td>\n",
       "      <td>0</td>\n",
       "      <td>330911</td>\n",
       "      <td>7.8292</td>\n",
       "      <td>NaN</td>\n",
       "      <td>Q</td>\n",
       "    </tr>\n",
       "    <tr>\n",
       "      <th>1</th>\n",
       "      <td>893</td>\n",
       "      <td>3</td>\n",
       "      <td>Wilkes, Mrs. James (Ellen Needs)</td>\n",
       "      <td>female</td>\n",
       "      <td>47.0</td>\n",
       "      <td>1</td>\n",
       "      <td>0</td>\n",
       "      <td>363272</td>\n",
       "      <td>7.0000</td>\n",
       "      <td>NaN</td>\n",
       "      <td>S</td>\n",
       "    </tr>\n",
       "    <tr>\n",
       "      <th>2</th>\n",
       "      <td>894</td>\n",
       "      <td>2</td>\n",
       "      <td>Myles, Mr. Thomas Francis</td>\n",
       "      <td>male</td>\n",
       "      <td>62.0</td>\n",
       "      <td>0</td>\n",
       "      <td>0</td>\n",
       "      <td>240276</td>\n",
       "      <td>9.6875</td>\n",
       "      <td>NaN</td>\n",
       "      <td>Q</td>\n",
       "    </tr>\n",
       "    <tr>\n",
       "      <th>3</th>\n",
       "      <td>895</td>\n",
       "      <td>3</td>\n",
       "      <td>Wirz, Mr. Albert</td>\n",
       "      <td>male</td>\n",
       "      <td>27.0</td>\n",
       "      <td>0</td>\n",
       "      <td>0</td>\n",
       "      <td>315154</td>\n",
       "      <td>8.6625</td>\n",
       "      <td>NaN</td>\n",
       "      <td>S</td>\n",
       "    </tr>\n",
       "    <tr>\n",
       "      <th>4</th>\n",
       "      <td>896</td>\n",
       "      <td>3</td>\n",
       "      <td>Hirvonen, Mrs. Alexander (Helga E Lindqvist)</td>\n",
       "      <td>female</td>\n",
       "      <td>22.0</td>\n",
       "      <td>1</td>\n",
       "      <td>1</td>\n",
       "      <td>3101298</td>\n",
       "      <td>12.2875</td>\n",
       "      <td>NaN</td>\n",
       "      <td>S</td>\n",
       "    </tr>\n",
       "  </tbody>\n",
       "</table>\n",
       "</div>"
      ],
      "text/plain": [
       "   PassengerId  Pclass                                          Name     Sex  \\\n",
       "0          892       3                              Kelly, Mr. James    male   \n",
       "1          893       3              Wilkes, Mrs. James (Ellen Needs)  female   \n",
       "2          894       2                     Myles, Mr. Thomas Francis    male   \n",
       "3          895       3                              Wirz, Mr. Albert    male   \n",
       "4          896       3  Hirvonen, Mrs. Alexander (Helga E Lindqvist)  female   \n",
       "\n",
       "    Age  SibSp  Parch   Ticket     Fare Cabin Embarked  \n",
       "0  34.5      0      0   330911   7.8292   NaN        Q  \n",
       "1  47.0      1      0   363272   7.0000   NaN        S  \n",
       "2  62.0      0      0   240276   9.6875   NaN        Q  \n",
       "3  27.0      0      0   315154   8.6625   NaN        S  \n",
       "4  22.0      1      1  3101298  12.2875   NaN        S  "
      ]
     },
     "execution_count": 3,
     "metadata": {},
     "output_type": "execute_result"
    }
   ],
   "source": [
    "test_data=pd.read_csv(\"../input/titanic/test.csv\")\n",
    "test_data.head()"
   ]
  },
  {
   "cell_type": "code",
   "execution_count": 4,
   "id": "2ac0c029",
   "metadata": {
    "execution": {
     "iopub.execute_input": "2021-08-08T09:49:57.928365Z",
     "iopub.status.busy": "2021-08-08T09:49:57.927456Z",
     "iopub.status.idle": "2021-08-08T09:49:57.932386Z",
     "shell.execute_reply": "2021-08-08T09:49:57.931854Z",
     "shell.execute_reply.started": "2021-08-08T09:42:52.147608Z"
    },
    "papermill": {
     "duration": 0.032635,
     "end_time": "2021-08-08T09:49:57.932554",
     "exception": false,
     "start_time": "2021-08-08T09:49:57.899919",
     "status": "completed"
    },
    "tags": []
   },
   "outputs": [
    {
     "data": {
      "text/plain": [
       "1      1\n",
       "2      1\n",
       "3      1\n",
       "8      1\n",
       "9      1\n",
       "      ..\n",
       "880    1\n",
       "882    0\n",
       "885    0\n",
       "887    1\n",
       "888    0\n",
       "Name: Survived, Length: 314, dtype: int64"
      ]
     },
     "execution_count": 4,
     "metadata": {},
     "output_type": "execute_result"
    }
   ],
   "source": [
    "women_survived=train_data.loc[train_data.Sex=='female'][\"Survived\"]\n",
    "women_survived"
   ]
  },
  {
   "cell_type": "markdown",
   "id": "7a04d0a2",
   "metadata": {
    "papermill": {
     "duration": 0.016223,
     "end_time": "2021-08-08T09:49:57.964632",
     "exception": false,
     "start_time": "2021-08-08T09:49:57.948409",
     "status": "completed"
    },
    "tags": []
   },
   "source": [
    "percentage women survived****"
   ]
  },
  {
   "cell_type": "code",
   "execution_count": 5,
   "id": "e843797f",
   "metadata": {
    "execution": {
     "iopub.execute_input": "2021-08-08T09:49:58.003644Z",
     "iopub.status.busy": "2021-08-08T09:49:58.002723Z",
     "iopub.status.idle": "2021-08-08T09:49:58.007337Z",
     "shell.execute_reply": "2021-08-08T09:49:58.006834Z",
     "shell.execute_reply.started": "2021-08-08T09:42:52.162422Z"
    },
    "papermill": {
     "duration": 0.026859,
     "end_time": "2021-08-08T09:49:58.007478",
     "exception": false,
     "start_time": "2021-08-08T09:49:57.980619",
     "status": "completed"
    },
    "tags": []
   },
   "outputs": [
    {
     "data": {
      "text/plain": [
       "0.7420382165605095"
      ]
     },
     "execution_count": 5,
     "metadata": {},
     "output_type": "execute_result"
    }
   ],
   "source": [
    "sum(women_survived)/len(women_survived)"
   ]
  },
  {
   "cell_type": "code",
   "execution_count": 6,
   "id": "cb0019ad",
   "metadata": {
    "execution": {
     "iopub.execute_input": "2021-08-08T09:49:58.049257Z",
     "iopub.status.busy": "2021-08-08T09:49:58.048578Z",
     "iopub.status.idle": "2021-08-08T09:49:58.053425Z",
     "shell.execute_reply": "2021-08-08T09:49:58.052796Z",
     "shell.execute_reply.started": "2021-08-08T09:42:52.176199Z"
    },
    "papermill": {
     "duration": 0.029739,
     "end_time": "2021-08-08T09:49:58.053558",
     "exception": false,
     "start_time": "2021-08-08T09:49:58.023819",
     "status": "completed"
    },
    "tags": []
   },
   "outputs": [
    {
     "data": {
      "text/plain": [
       "0      0\n",
       "4      0\n",
       "5      0\n",
       "6      0\n",
       "7      0\n",
       "      ..\n",
       "883    0\n",
       "884    0\n",
       "886    0\n",
       "889    1\n",
       "890    0\n",
       "Name: Survived, Length: 577, dtype: int64"
      ]
     },
     "execution_count": 6,
     "metadata": {},
     "output_type": "execute_result"
    }
   ],
   "source": [
    "men_survived=train_data.loc[train_data.Sex=='male'][\"Survived\"]\n",
    "men_survived"
   ]
  },
  {
   "cell_type": "code",
   "execution_count": 7,
   "id": "6c1e639e",
   "metadata": {
    "execution": {
     "iopub.execute_input": "2021-08-08T09:49:58.093736Z",
     "iopub.status.busy": "2021-08-08T09:49:58.092810Z",
     "iopub.status.idle": "2021-08-08T09:49:58.097620Z",
     "shell.execute_reply": "2021-08-08T09:49:58.097037Z",
     "shell.execute_reply.started": "2021-08-08T09:42:52.191458Z"
    },
    "papermill": {
     "duration": 0.027519,
     "end_time": "2021-08-08T09:49:58.097757",
     "exception": false,
     "start_time": "2021-08-08T09:49:58.070238",
     "status": "completed"
    },
    "tags": []
   },
   "outputs": [
    {
     "data": {
      "text/plain": [
       "0.18890814558058924"
      ]
     },
     "execution_count": 7,
     "metadata": {},
     "output_type": "execute_result"
    }
   ],
   "source": [
    "sum(men_survived)\n",
    "percent_men=(sum(men_survived)/len(men_survived))\n",
    "percent_men"
   ]
  },
  {
   "cell_type": "markdown",
   "id": "530d02ff",
   "metadata": {
    "papermill": {
     "duration": 0.016417,
     "end_time": "2021-08-08T09:49:58.130973",
     "exception": false,
     "start_time": "2021-08-08T09:49:58.114556",
     "status": "completed"
    },
    "tags": []
   },
   "source": [
    "convert string data to int****"
   ]
  },
  {
   "cell_type": "markdown",
   "id": "bab3428e",
   "metadata": {
    "papermill": {
     "duration": 0.0165,
     "end_time": "2021-08-08T09:49:58.164237",
     "exception": false,
     "start_time": "2021-08-08T09:49:58.147737",
     "status": "completed"
    },
    "tags": []
   },
   "source": []
  },
  {
   "cell_type": "code",
   "execution_count": 8,
   "id": "e544d1b2",
   "metadata": {
    "execution": {
     "iopub.execute_input": "2021-08-08T09:49:58.215921Z",
     "iopub.status.busy": "2021-08-08T09:49:58.215158Z",
     "iopub.status.idle": "2021-08-08T09:49:58.219391Z",
     "shell.execute_reply": "2021-08-08T09:49:58.219884Z",
     "shell.execute_reply.started": "2021-08-08T09:42:52.206986Z"
    },
    "papermill": {
     "duration": 0.039202,
     "end_time": "2021-08-08T09:49:58.220097",
     "exception": false,
     "start_time": "2021-08-08T09:49:58.180895",
     "status": "completed"
    },
    "tags": []
   },
   "outputs": [
    {
     "data": {
      "text/html": [
       "<div>\n",
       "<style scoped>\n",
       "    .dataframe tbody tr th:only-of-type {\n",
       "        vertical-align: middle;\n",
       "    }\n",
       "\n",
       "    .dataframe tbody tr th {\n",
       "        vertical-align: top;\n",
       "    }\n",
       "\n",
       "    .dataframe thead th {\n",
       "        text-align: right;\n",
       "    }\n",
       "</style>\n",
       "<table border=\"1\" class=\"dataframe\">\n",
       "  <thead>\n",
       "    <tr style=\"text-align: right;\">\n",
       "      <th></th>\n",
       "      <th>Parch</th>\n",
       "      <th>Pclass</th>\n",
       "      <th>Sex</th>\n",
       "      <th>SibSp</th>\n",
       "    </tr>\n",
       "  </thead>\n",
       "  <tbody>\n",
       "    <tr>\n",
       "      <th>0</th>\n",
       "      <td>1</td>\n",
       "      <td>0</td>\n",
       "      <td>0</td>\n",
       "      <td>0</td>\n",
       "    </tr>\n",
       "    <tr>\n",
       "      <th>1</th>\n",
       "      <td>0</td>\n",
       "      <td>0</td>\n",
       "      <td>0</td>\n",
       "      <td>1</td>\n",
       "    </tr>\n",
       "    <tr>\n",
       "      <th>2</th>\n",
       "      <td>0</td>\n",
       "      <td>0</td>\n",
       "      <td>1</td>\n",
       "      <td>0</td>\n",
       "    </tr>\n",
       "    <tr>\n",
       "      <th>3</th>\n",
       "      <td>0</td>\n",
       "      <td>1</td>\n",
       "      <td>0</td>\n",
       "      <td>0</td>\n",
       "    </tr>\n",
       "  </tbody>\n",
       "</table>\n",
       "</div>"
      ],
      "text/plain": [
       "   Parch  Pclass  Sex  SibSp\n",
       "0      1       0    0      0\n",
       "1      0       0    0      1\n",
       "2      0       0    1      0\n",
       "3      0       1    0      0"
      ]
     },
     "execution_count": 8,
     "metadata": {},
     "output_type": "execute_result"
    }
   ],
   "source": [
    "features=['Parch','SibSp','Sex','Pclass']\n",
    "train_data[features]\n",
    "pd.get_dummies(features)"
   ]
  },
  {
   "cell_type": "code",
   "execution_count": 9,
   "id": "12e646ff",
   "metadata": {
    "execution": {
     "iopub.execute_input": "2021-08-08T09:49:58.271525Z",
     "iopub.status.busy": "2021-08-08T09:49:58.267228Z",
     "iopub.status.idle": "2021-08-08T09:49:58.278829Z",
     "shell.execute_reply": "2021-08-08T09:49:58.278269Z",
     "shell.execute_reply.started": "2021-08-08T09:42:52.230455Z"
    },
    "papermill": {
     "duration": 0.040927,
     "end_time": "2021-08-08T09:49:58.279004",
     "exception": false,
     "start_time": "2021-08-08T09:49:58.238077",
     "status": "completed"
    },
    "tags": []
   },
   "outputs": [],
   "source": [
    "X=pd.get_dummies(train_data[features])\n",
    "X_test=pd.get_dummies(test_data[features])"
   ]
  },
  {
   "cell_type": "code",
   "execution_count": 10,
   "id": "cd2eedb7",
   "metadata": {
    "execution": {
     "iopub.execute_input": "2021-08-08T09:49:58.320791Z",
     "iopub.status.busy": "2021-08-08T09:49:58.319900Z",
     "iopub.status.idle": "2021-08-08T09:49:58.323548Z",
     "shell.execute_reply": "2021-08-08T09:49:58.322891Z",
     "shell.execute_reply.started": "2021-08-08T09:42:52.249092Z"
    },
    "papermill": {
     "duration": 0.026997,
     "end_time": "2021-08-08T09:49:58.323715",
     "exception": false,
     "start_time": "2021-08-08T09:49:58.296718",
     "status": "completed"
    },
    "tags": []
   },
   "outputs": [],
   "source": [
    "target=train_data[\"Survived\"]"
   ]
  },
  {
   "cell_type": "code",
   "execution_count": 11,
   "id": "793731ab",
   "metadata": {
    "execution": {
     "iopub.execute_input": "2021-08-08T09:49:58.368579Z",
     "iopub.status.busy": "2021-08-08T09:49:58.367906Z",
     "iopub.status.idle": "2021-08-08T09:49:58.585934Z",
     "shell.execute_reply": "2021-08-08T09:49:58.585240Z",
     "shell.execute_reply.started": "2021-08-08T09:42:52.259125Z"
    },
    "papermill": {
     "duration": 0.244225,
     "end_time": "2021-08-08T09:49:58.586111",
     "exception": false,
     "start_time": "2021-08-08T09:49:58.341886",
     "status": "completed"
    },
    "tags": []
   },
   "outputs": [],
   "source": [
    "model=RandomForestClassifier(n_estimators=100,max_depth=5,random_state=1)\n",
    "model.fit(X,target)\n",
    "predictions=model.predict(X_test)"
   ]
  },
  {
   "cell_type": "code",
   "execution_count": 12,
   "id": "039423f6",
   "metadata": {
    "execution": {
     "iopub.execute_input": "2021-08-08T09:49:58.627189Z",
     "iopub.status.busy": "2021-08-08T09:49:58.626286Z",
     "iopub.status.idle": "2021-08-08T09:49:58.630079Z",
     "shell.execute_reply": "2021-08-08T09:49:58.629421Z",
     "shell.execute_reply.started": "2021-08-08T09:47:03.913226Z"
    },
    "papermill": {
     "duration": 0.026722,
     "end_time": "2021-08-08T09:49:58.630224",
     "exception": false,
     "start_time": "2021-08-08T09:49:58.603502",
     "status": "completed"
    },
    "tags": []
   },
   "outputs": [],
   "source": [
    "output = pd.DataFrame({'PassengerId': test_data.PassengerId, 'Survived': predictions})"
   ]
  },
  {
   "cell_type": "code",
   "execution_count": 13,
   "id": "aa3d1e92",
   "metadata": {
    "execution": {
     "iopub.execute_input": "2021-08-08T09:49:58.669933Z",
     "iopub.status.busy": "2021-08-08T09:49:58.669307Z",
     "iopub.status.idle": "2021-08-08T09:49:58.676530Z",
     "shell.execute_reply": "2021-08-08T09:49:58.676033Z",
     "shell.execute_reply.started": "2021-08-08T09:48:43.794338Z"
    },
    "papermill": {
     "duration": 0.029254,
     "end_time": "2021-08-08T09:49:58.676670",
     "exception": false,
     "start_time": "2021-08-08T09:49:58.647416",
     "status": "completed"
    },
    "tags": []
   },
   "outputs": [],
   "source": [
    "output.to_csv('day1.csv',index=False)"
   ]
  },
  {
   "cell_type": "code",
   "execution_count": 14,
   "id": "87ef3951",
   "metadata": {
    "execution": {
     "iopub.execute_input": "2021-08-08T09:49:58.723446Z",
     "iopub.status.busy": "2021-08-08T09:49:58.722575Z",
     "iopub.status.idle": "2021-08-08T09:49:58.728053Z",
     "shell.execute_reply": "2021-08-08T09:49:58.727326Z",
     "shell.execute_reply.started": "2021-08-08T09:49:08.878282Z"
    },
    "papermill": {
     "duration": 0.034171,
     "end_time": "2021-08-08T09:49:58.728219",
     "exception": false,
     "start_time": "2021-08-08T09:49:58.694048",
     "status": "completed"
    },
    "tags": []
   },
   "outputs": [
    {
     "data": {
      "text/html": [
       "<div>\n",
       "<style scoped>\n",
       "    .dataframe tbody tr th:only-of-type {\n",
       "        vertical-align: middle;\n",
       "    }\n",
       "\n",
       "    .dataframe tbody tr th {\n",
       "        vertical-align: top;\n",
       "    }\n",
       "\n",
       "    .dataframe thead th {\n",
       "        text-align: right;\n",
       "    }\n",
       "</style>\n",
       "<table border=\"1\" class=\"dataframe\">\n",
       "  <thead>\n",
       "    <tr style=\"text-align: right;\">\n",
       "      <th></th>\n",
       "      <th>PassengerId</th>\n",
       "      <th>Survived</th>\n",
       "    </tr>\n",
       "  </thead>\n",
       "  <tbody>\n",
       "    <tr>\n",
       "      <th>0</th>\n",
       "      <td>892</td>\n",
       "      <td>0</td>\n",
       "    </tr>\n",
       "    <tr>\n",
       "      <th>1</th>\n",
       "      <td>893</td>\n",
       "      <td>1</td>\n",
       "    </tr>\n",
       "    <tr>\n",
       "      <th>2</th>\n",
       "      <td>894</td>\n",
       "      <td>0</td>\n",
       "    </tr>\n",
       "    <tr>\n",
       "      <th>3</th>\n",
       "      <td>895</td>\n",
       "      <td>0</td>\n",
       "    </tr>\n",
       "    <tr>\n",
       "      <th>4</th>\n",
       "      <td>896</td>\n",
       "      <td>1</td>\n",
       "    </tr>\n",
       "    <tr>\n",
       "      <th>...</th>\n",
       "      <td>...</td>\n",
       "      <td>...</td>\n",
       "    </tr>\n",
       "    <tr>\n",
       "      <th>413</th>\n",
       "      <td>1305</td>\n",
       "      <td>0</td>\n",
       "    </tr>\n",
       "    <tr>\n",
       "      <th>414</th>\n",
       "      <td>1306</td>\n",
       "      <td>1</td>\n",
       "    </tr>\n",
       "    <tr>\n",
       "      <th>415</th>\n",
       "      <td>1307</td>\n",
       "      <td>0</td>\n",
       "    </tr>\n",
       "    <tr>\n",
       "      <th>416</th>\n",
       "      <td>1308</td>\n",
       "      <td>0</td>\n",
       "    </tr>\n",
       "    <tr>\n",
       "      <th>417</th>\n",
       "      <td>1309</td>\n",
       "      <td>0</td>\n",
       "    </tr>\n",
       "  </tbody>\n",
       "</table>\n",
       "<p>418 rows × 2 columns</p>\n",
       "</div>"
      ],
      "text/plain": [
       "     PassengerId  Survived\n",
       "0            892         0\n",
       "1            893         1\n",
       "2            894         0\n",
       "3            895         0\n",
       "4            896         1\n",
       "..           ...       ...\n",
       "413         1305         0\n",
       "414         1306         1\n",
       "415         1307         0\n",
       "416         1308         0\n",
       "417         1309         0\n",
       "\n",
       "[418 rows x 2 columns]"
      ]
     },
     "execution_count": 14,
     "metadata": {},
     "output_type": "execute_result"
    }
   ],
   "source": [
    "output"
   ]
  },
  {
   "cell_type": "code",
   "execution_count": null,
   "id": "725ea35e",
   "metadata": {
    "papermill": {
     "duration": 0.017866,
     "end_time": "2021-08-08T09:49:58.764453",
     "exception": false,
     "start_time": "2021-08-08T09:49:58.746587",
     "status": "completed"
    },
    "tags": []
   },
   "outputs": [],
   "source": []
  }
 ],
 "metadata": {
  "kernelspec": {
   "display_name": "Python 3",
   "language": "python",
   "name": "python3"
  },
  "language_info": {
   "codemirror_mode": {
    "name": "ipython",
    "version": 3
   },
   "file_extension": ".py",
   "mimetype": "text/x-python",
   "name": "python",
   "nbconvert_exporter": "python",
   "pygments_lexer": "ipython3",
   "version": "3.7.10"
  },
  "papermill": {
   "default_parameters": {},
   "duration": 12.899398,
   "end_time": "2021-08-08T09:50:00.496081",
   "environment_variables": {},
   "exception": null,
   "input_path": "__notebook__.ipynb",
   "output_path": "__notebook__.ipynb",
   "parameters": {},
   "start_time": "2021-08-08T09:49:47.596683",
   "version": "2.3.3"
  }
 },
 "nbformat": 4,
 "nbformat_minor": 5
}
